{
 "cells": [
  {
   "cell_type": "markdown",
   "metadata": {},
   "source": [
    "# ConvNet for MNIST dataset"
   ]
  },
  {
   "cell_type": "code",
   "execution_count": null,
   "metadata": {
    "collapsed": true
   },
   "outputs": [],
   "source": [
    "#%load_ext autoreload\n",
    "#%autoreload 2"
   ]
  },
  {
   "cell_type": "markdown",
   "metadata": {},
   "source": [
    "## LoadData"
   ]
  },
  {
   "cell_type": "code",
   "execution_count": 3,
   "metadata": {
    "collapsed": false
   },
   "outputs": [
    {
     "name": "stdout",
     "output_type": "stream",
     "text": [
      "Extracting /tmp/data/train-images-idx3-ubyte.gz\n",
      "Extracting /tmp/data/train-labels-idx1-ubyte.gz\n",
      "Extracting /tmp/data/t10k-images-idx3-ubyte.gz\n",
      "Extracting /tmp/data/t10k-labels-idx1-ubyte.gz\n",
      "train images:  (55000, 784) float32\n",
      "train labels: (55000, 10) float64\n"
     ]
    }
   ],
   "source": [
    "import tensorflow as tf\n",
    "\n",
    "# Import MNIST data\n",
    "from tensorflow.examples.tutorials.mnist import input_data\n",
    "mnist = input_data.read_data_sets(\"/tmp/data/\", one_hot=True)\n",
    "\n",
    "print 'train images: ',mnist.train.images.shape, mnist.train.images.dtype\n",
    "print 'train labels:', mnist.train.labels.shape,mnist.train.labels.dtype"
   ]
  },
  {
   "cell_type": "markdown",
   "metadata": {},
   "source": [
    "## ConvNet Model"
   ]
  },
  {
   "cell_type": "code",
   "execution_count": 26,
   "metadata": {
    "collapsed": true
   },
   "outputs": [],
   "source": [
    "# Wrapper for layers and initial params\n",
    "def conv2d(x, W, stride=1):\n",
    "    return tf.nn.conv2d(x, W, strides=[1, stride, stride, 1], \n",
    "                        padding='SAME')\n",
    "\n",
    "\n",
    "def maxPool2d(x, stride=2):\n",
    "    return tf.nn.max_pool(x, ksize=[1, stride, stride, 1],\n",
    "                        strides=[1, stride, stride, 1], padding='SAME')\n",
    "\n",
    "def weightVar(shape):\n",
    "    return tf.Variable(tf.truncated_normal(shape, stddev=0.1))\n",
    " \n",
    "def biasVar(shape):\n",
    "    return tf.Variable(tf.constant(0.1, shape=shape))\n",
    "\n",
    "\n",
    "def convNet(x, weight, bias, hiddenNeuron, keepProb=0.5):\n",
    "    ''' \n",
    "    Convolution Neural Network Structure\n",
    "        2 * (conv + relu + maxpooling)\n",
    "        1 * (fc + relu + drop)\n",
    "        1 * out\n",
    "    '''\n",
    "    \n",
    "    # Reshape img\n",
    "    x = tf.reshape(x, [-1, 28, 28,1])\n",
    "    \n",
    "    # ConvLayer 1 + ReLu + MaxPooling\n",
    "    conv1 = maxPool2d(tf.nn.relu(conv2d(x, w['conv1']) + b['conv1']))\n",
    "    \n",
    "    # ConvLayer 2 + ReLu + MaxPooling\n",
    "    conv2 = maxPool2d(tf.nn.relu(conv2d(conv1, w['conv2']) + b['conv2']))\n",
    "\n",
    "    # FullyConnectedLayer 1 + Dropout, feature size 28/(2*2) = 7\n",
    "    feats = tf.reshape(conv2, [-1, w['fc1'].get_shape().as_list()[0]])\n",
    "    z = tf.nn.dropout(tf.nn.relu(tf.matmul(feats, w['fc1']) + b['fc1']), \n",
    "                      keepProb)\n",
    "    # Output Layer\n",
    "    y = tf.matmul(z, w['out']) + b['out']\n",
    "    \n",
    "    return y\n",
    "    "
   ]
  },
  {
   "cell_type": "markdown",
   "metadata": {},
   "source": [
    "## Trainning and Evaluation"
   ]
  },
  {
   "cell_type": "code",
   "execution_count": 28,
   "metadata": {
    "collapsed": false
   },
   "outputs": [
    {
     "name": "stdout",
     "output_type": "stream",
     "text": [
      "step 0, accuracy 0.156250, loss 11.471273\n",
      "step 10, accuracy 0.328125, loss 2.076499\n",
      "step 20, accuracy 0.726562, loss 0.973087\n",
      "step 30, accuracy 0.726562, loss 0.761298\n",
      "step 40, accuracy 0.851562, loss 0.488750\n",
      "step 50, accuracy 0.851562, loss 0.544550\n",
      "step 60, accuracy 0.960938, loss 0.196942\n",
      "step 70, accuracy 0.882812, loss 0.345766\n",
      "step 80, accuracy 0.921875, loss 0.218812\n",
      "step 90, accuracy 0.898438, loss 0.365128\n",
      "test accuracy 0.9336\n"
     ]
    }
   ],
   "source": [
    "import time\n",
    "# Hyper Parameters\n",
    "learningRate = 0.001\n",
    "iters = 100\n",
    "batchSize = 128\n",
    "hiddenNeuron = 1024\n",
    "keepProb = 0.75\n",
    "\n",
    "imgDim = mnist.train.images.shape[1]\n",
    "classNum = mnist.train.labels.shape[1]\n",
    "\n",
    "# Prepare placeholder for input\n",
    "x = tf.placeholder(tf.float32, shape=[None, imgDim])\n",
    "y = tf.placeholder(tf.float32, shape=[None, classNum])\n",
    "pb = tf.placeholder(tf.float32)\n",
    "\n",
    "# Initial w and b\n",
    "w = {'conv1': weightVar([5, 5, 1, 32]),\n",
    "     'conv2': weightVar([5, 5, 32, 64]),\n",
    "     'fc1': weightVar([7 * 7 * 64, hiddenNeuron]),\n",
    "     'out': weightVar([hiddenNeuron, classNum])}\n",
    "\n",
    "tf.histogram_summary('cv1_w',w['conv1'])\n",
    "tf.histogram_summary('cv2_w',w['conv2'])\n",
    "\n",
    "b = {'conv1': biasVar([32]),\n",
    "     'conv2': biasVar([64]),\n",
    "     'fc1': biasVar([hiddenNeuron]),\n",
    "     'out': biasVar([classNum])}\n",
    "\n",
    "# Create and train a ConvNet\n",
    "yPred = convNet(x, w, b, pb)\n",
    "\n",
    "# Minimize softmax loss\n",
    "loss = tf.reduce_mean(tf.nn.softmax_cross_entropy_with_logits(yPred, y))\n",
    "optimizer = tf.train.AdamOptimizer(learningRate).minimize(loss)\n",
    "\n",
    "# Cal accuracy\n",
    "correct = tf.equal(tf.argmax(yPred, 1), tf.argmax(y, 1))\n",
    "accuracy = tf.reduce_mean(tf.cast(correct, tf.float32))\n",
    "\n",
    "tf.scalar_summary('loss', loss)\n",
    "tf.scalar_summary('acc', accuracy)\n",
    "summary = tf.merge_all_summaries()\n",
    "\n",
    "# Run the graph\n",
    "with tf.Session() as sess:\n",
    "\n",
    "    #writer = tf.train.SummaryWriter(\"./logs/cnn_log\", sess.graph)\n",
    "    sess.run(tf.initialize_all_variables())\n",
    "    \n",
    "    t1= time.time()\n",
    "    for i in range(iters):\n",
    "        batch_x, batch_y = mnist.train.next_batch(batchSize)\n",
    "        \n",
    "        optimizer.run(feed_dict={x:batch_x, y:batch_y, pb: keepProb})\n",
    "\n",
    "        if i%10 == 0:\n",
    "            accVal, lossVal = sess.run([accuracy, loss], feed_dict={x:batch_x, y:batch_y, pb: 1.})\n",
    "            #summaryStr = sess.run(summary, feed_dict={x:batch_x, y:batch_y, pb: 1.})\n",
    "            #writer.add_summary(summaryStr, i)\n",
    "            #writer.flush()\n",
    "            \n",
    "            print(\"step %d, accuracy %f, loss %f\" %(i, accVal, lossVal))\n",
    "    \n",
    "    #Evaluation\n",
    "    acc = sess.run(accuracy,feed_dict={x: mnist.validation.images, y: mnist.validation.labels, pb: 1.})\n",
    "    print(\"test accuracy %g\"% acc)\n",
    "    \n",
    "    # Test\n",
    "    #acc = sess.run(accuracy,feed_dict={x: mnist.test.images, y: mnist.test.labels, pb: 1.})\n",
    "    #print(\"test accuracy %g\"% acc)\n",
    "\n",
    "\n",
    "\n"
   ]
  },
  {
   "cell_type": "code",
   "execution_count": null,
   "metadata": {
    "collapsed": true
   },
   "outputs": [],
   "source": []
  }
 ],
 "metadata": {
  "anaconda-cloud": {},
  "kernelspec": {
   "display_name": "Python [Root]",
   "language": "python",
   "name": "Python [Root]"
  },
  "language_info": {
   "codemirror_mode": {
    "name": "ipython",
    "version": 2
   },
   "file_extension": ".py",
   "mimetype": "text/x-python",
   "name": "python",
   "nbconvert_exporter": "python",
   "pygments_lexer": "ipython2",
   "version": "2.7.12"
  }
 },
 "nbformat": 4,
 "nbformat_minor": 0
}
