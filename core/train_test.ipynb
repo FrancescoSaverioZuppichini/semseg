{
 "cells": [
  {
   "cell_type": "code",
   "execution_count": 1,
   "metadata": {
    "collapsed": false,
    "scrolled": true
   },
   "outputs": [],
   "source": [
    "# Allow auto-reload of external modules \n",
    "%load_ext autoreload\n",
    "%autoreload 2\n",
    "\n",
    "from __future__ import absolute_import\n",
    "from __future__ import division\n",
    "from __future__ import print_function\n",
    "\n",
    "import os\n",
    "import scipy as scp\n",
    "import scipy.misc\n",
    "\n",
    "import numpy as np\n",
    "import tensorflow as tf\n",
    "\n",
    "from network.fcn_vgg16 import FCN16VGG\n",
    "import data_utils as dt\n"
   ]
  },
  {
   "cell_type": "markdown",
   "metadata": {},
   "source": [
    "# vgg16.npy transformation"
   ]
  },
  {
   "cell_type": "code",
   "execution_count": 6,
   "metadata": {
    "collapsed": false
   },
   "outputs": [
    {
     "name": "stdout",
     "output_type": "stream",
     "text": [
      "Successfullt load vgg16 weight from /Users/jennyzhou/GitLocalRepository/APC_InstanceSegmentation/core/data/vgg16.npy.\n",
      "['conv5_1', 'fc6', 'conv5_3', 'fc7', 'fc8', 'conv5_2', 'conv4_1', 'conv4_2', 'conv4_3', 'conv3_3', 'conv3_2', 'conv3_1', 'conv1_1', 'conv1_2', 'conv2_2', 'conv2_1']\n"
     ]
    }
   ],
   "source": [
    "# Load old vgg16.npy\n",
    "data_dict = dt.load_vgg16_weight('data/vgg16.npy')\n",
    "print(data_dict.keys())"
   ]
  },
  {
   "cell_type": "code",
   "execution_count": 7,
   "metadata": {
    "collapsed": false
   },
   "outputs": [
    {
     "name": "stdout",
     "output_type": "stream",
     "text": [
      "['conv5_1', 'conv5_3', 'conv5_2', 'conv4_1', 'conv4_2', 'conv4_3', 'conv3_3', 'conv3_2', 'conv3_1', 'conv1_1', 'conv1_2', 'conv2_2', 'conv2_1']\n"
     ]
    }
   ],
   "source": [
    "data_dict.pop('fc6', None)\n",
    "data_dict.pop('fc7', None)\n",
    "data_dict.pop('fc8', None)\n",
    "print(data_dict.keys())"
   ]
  },
  {
   "cell_type": "code",
   "execution_count": 10,
   "metadata": {
    "collapsed": false
   },
   "outputs": [
    {
     "name": "stdout",
     "output_type": "stream",
     "text": [
      "True\n"
     ]
    }
   ],
   "source": [
    "dict_to_add = {'conv6_1': data_dict['conv5_1'],\n",
    "            'conv6_2': data_dict['conv5_2'],\n",
    "            'conv6_3': data_dict['conv5_3']}\n",
    "print(dict_to_add['conv6_2'] == data_dict['conv5_2'])"
   ]
  },
  {
   "cell_type": "code",
   "execution_count": 11,
   "metadata": {
    "collapsed": false
   },
   "outputs": [
    {
     "name": "stdout",
     "output_type": "stream",
     "text": [
      "['conv6_1', 'conv5_1', 'conv5_3', 'conv5_2', 'conv4_1', 'conv4_2', 'conv4_3', 'conv6_2', 'conv3_3', 'conv3_2', 'conv3_1', 'conv1_1', 'conv6_3', 'conv1_2', 'conv2_2', 'conv2_1']\n"
     ]
    }
   ],
   "source": [
    "data_dict.update(dict_to_add)\n",
    "print(data_dict.keys())"
   ]
  },
  {
   "cell_type": "code",
   "execution_count": 16,
   "metadata": {
    "collapsed": false
   },
   "outputs": [
    {
     "name": "stdout",
     "output_type": "stream",
     "text": [
      "(3, 3, 3, 64)\n",
      "(3, 3, 64, 64)\n",
      "(3, 3, 64, 128)\n",
      "(3, 3, 128, 128)\n",
      "(3, 3, 128, 256)\n",
      "(3, 3, 256, 256)\n",
      "(3, 3, 256, 256)\n",
      "(3, 3, 256, 512)\n",
      "(3, 3, 512, 512)\n",
      "(3, 3, 512, 512)\n",
      "(3, 3, 512, 512)\n",
      "(3, 3, 512, 512)\n",
      "(3, 3, 512, 512)\n",
      "(3, 3, 512, 512)\n",
      "(3, 3, 512, 512)\n",
      "(3, 3, 512, 512)\n"
     ]
    }
   ],
   "source": [
    "for key in sorted(data_dict):\n",
    "    print(data_dict[key][0].shape)"
   ]
  },
  {
   "cell_type": "code",
   "execution_count": 17,
   "metadata": {
    "collapsed": false
   },
   "outputs": [],
   "source": [
    "np.save('data/vgg16_new.npy', data_dict)"
   ]
  },
  {
   "cell_type": "code",
   "execution_count": 18,
   "metadata": {
    "collapsed": false
   },
   "outputs": [
    {
     "name": "stdout",
     "output_type": "stream",
     "text": [
      "Successfullt load vgg16 weight from /Users/jennyzhou/GitLocalRepository/APC_InstanceSegmentation/core/data/vgg16_new.npy.\n",
      "['conv1_2', 'conv5_1', 'conv5_3', 'conv5_2', 'conv4_1', 'conv4_2', 'conv4_3', 'conv1_1', 'conv3_3', 'conv3_2', 'conv3_1', 'conv6_2', 'conv6_3', 'conv6_1', 'conv2_2', 'conv2_1']\n"
     ]
    }
   ],
   "source": [
    "data_dict_new = dt.load_vgg16_weight('data/vgg16_new.npy')\n",
    "print(data_dict_new.keys())"
   ]
  },
  {
   "cell_type": "code",
   "execution_count": null,
   "metadata": {
    "collapsed": true
   },
   "outputs": [],
   "source": []
  }
 ],
 "metadata": {
  "anaconda-cloud": {},
  "kernelspec": {
   "display_name": "Python [Root]",
   "language": "python",
   "name": "Python [Root]"
  },
  "language_info": {
   "codemirror_mode": {
    "name": "ipython",
    "version": 2
   },
   "file_extension": ".py",
   "mimetype": "text/x-python",
   "name": "python",
   "nbconvert_exporter": "python",
   "pygments_lexer": "ipython2",
   "version": "2.7.12"
  }
 },
 "nbformat": 4,
 "nbformat_minor": 0
}
