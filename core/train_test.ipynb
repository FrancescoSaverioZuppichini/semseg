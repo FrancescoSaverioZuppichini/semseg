{
 "cells": [
  {
   "cell_type": "code",
   "execution_count": 100,
   "metadata": {
    "collapsed": false,
    "scrolled": true
   },
   "outputs": [],
   "source": [
    "# Allow auto-reload of external modules \n",
    "%reload_ext autoreload\n",
    "%autoreload 2\n",
    "\n",
    "from __future__ import absolute_import\n",
    "from __future__ import division\n",
    "from __future__ import print_function\n",
    "\n",
    "import os\n",
    "import scipy as scp\n",
    "import scipy.misc\n",
    "\n",
    "import numpy as np\n",
    "import tensorflow as tf\n",
    "import nn\n",
    "from network.fcn_instance import InstanceFCN8s"
   ]
  },
  {
   "cell_type": "code",
   "execution_count": 106,
   "metadata": {
    "collapsed": false
   },
   "outputs": [],
   "source": [
    "x = np.random.rand(1,4,4,3)\n",
    "w = tf.Variable(x)\n",
    "k = tf.Variable(np.random.rand(3,3,2,5))\n",
    "lis = [0,2]\n",
    "lis_ = []\n",
    "for i in lis:\n",
    "    t = tf.slice(w, [0,0, 0, i], [1,4, 4, 1])\n",
    "    lis_.append(t)\n",
    "new = tf.concat(3,lis_)\n",
    "conv = tf.nn.depthwise_conv2d(new, k,\n",
    "                              strides=[1, 1, 1, 1],\n",
    "                              padding='SAME')\n",
    "\n",
    "\n",
    "init = tf.initialize_all_variables()\n",
    "with tf.Session() as sess:\n",
    "    sess.run(init)\n",
    "    m = sess.run(new)\n",
    "    c = sess.run(conv)"
   ]
  },
  {
   "cell_type": "code",
   "execution_count": 107,
   "metadata": {
    "collapsed": false
   },
   "outputs": [
    {
     "name": "stdout",
     "output_type": "stream",
     "text": [
      "(1, 4, 4, 2)\n",
      "(1, 4, 4, 10)\n"
     ]
    }
   ],
   "source": [
    "print(m.shape)\n",
    "print(c.shape)\n"
   ]
  },
  {
   "cell_type": "code",
   "execution_count": 94,
   "metadata": {
    "collapsed": false
   },
   "outputs": [
    {
     "name": "stdout",
     "output_type": "stream",
     "text": [
      "Successfully load weight file from /Users/jennyzhou/GitLocalRepository/APC_InstanceSegmentation/core/data/vgg16.npy.\n"
     ]
    }
   ],
   "source": [
    "data_dict = dt.load_weight('data/vgg16.npy')"
   ]
  },
  {
   "cell_type": "code",
   "execution_count": 97,
   "metadata": {
    "collapsed": false
   },
   "outputs": [
    {
     "name": "stdout",
     "output_type": "stream",
     "text": [
      "(3, 3, 512, 512) (512,)\n",
      "(25088, 4096) (4096,)\n",
      "(3, 3, 512, 512) (512,)\n",
      "(4096, 4096) (4096,)\n",
      "(4096, 1000) (1000,)\n",
      "(3, 3, 512, 512) (512,)\n",
      "(3, 3, 256, 512) (512,)\n",
      "(3, 3, 512, 512) (512,)\n",
      "(3, 3, 512, 512) (512,)\n",
      "(3, 3, 256, 256) (256,)\n",
      "(3, 3, 256, 256) (256,)\n",
      "(3, 3, 128, 256) (256,)\n",
      "(3, 3, 3, 64) (64,)\n",
      "(3, 3, 64, 64) (64,)\n",
      "(3, 3, 128, 128) (128,)\n",
      "(3, 3, 64, 128) (128,)\n"
     ]
    }
   ],
   "source": [
    "for x in data_dict:\n",
    "    print(data_dict[x][0].shape, data_dict[x][1].shape)"
   ]
  },
  {
   "cell_type": "code",
   "execution_count": null,
   "metadata": {
    "collapsed": true
   },
   "outputs": [],
   "source": []
  }
 ],
 "metadata": {
  "anaconda-cloud": {},
  "kernelspec": {
   "display_name": "Python [Root]",
   "language": "python",
   "name": "Python [Root]"
  },
  "language_info": {
   "codemirror_mode": {
    "name": "ipython",
    "version": 2
   },
   "file_extension": ".py",
   "mimetype": "text/x-python",
   "name": "python",
   "nbconvert_exporter": "python",
   "pygments_lexer": "ipython2",
   "version": "2.7.12"
  }
 },
 "nbformat": 4,
 "nbformat_minor": 0
}
