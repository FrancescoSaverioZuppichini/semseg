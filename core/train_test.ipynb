{
 "cells": [
  {
   "cell_type": "code",
   "execution_count": 1,
   "metadata": {
    "collapsed": false,
    "scrolled": true
   },
   "outputs": [],
   "source": [
    "# Allow auto-reload of external modules \n",
    "%load_ext autoreload\n",
    "%autoreload 2\n",
    "\n",
    "from __future__ import absolute_import\n",
    "from __future__ import division\n",
    "from __future__ import print_function\n",
    "\n",
    "import os\n",
    "import scipy as scp\n",
    "import scipy.misc\n",
    "\n",
    "import numpy as np\n",
    "import tensorflow as tf\n",
    "\n",
    "\n",
    "from network.fcn_vgg16 import FCN16VGG\n",
    "import data_utils as dt\n"
   ]
  },
  {
   "cell_type": "markdown",
   "metadata": {},
   "source": [
    "# Test 1"
   ]
  },
  {
   "cell_type": "code",
   "execution_count": null,
   "metadata": {
    "collapsed": false,
    "scrolled": true
   },
   "outputs": [],
   "source": [
    "train_data_config = {'voc_dir':\"data/VOCdevkit/VOC2012\",\n",
    "          'dataset':'train',\n",
    "          'randomize': True,\n",
    "          'seed': None}\n",
    "params = {'num_classes': 22, 'rate': 1e-4}\n",
    "\n",
    "train_dataset = dt.VOCDataSet(train_data_config)\n",
    "next_pair = train_dataset.next_batch()\n",
    "num_classes = params['num_classes'] \n",
    "label = next_pair[1]\n",
    "num_pixels = label.shape[2]*label.shape[3]                  \n",
    "label[label == 255] = num_classes - 1\n",
    "label = label.reshape(label.shape[2],label.shape[3])\n",
    "\n",
    "\n",
    "label_ = np.ones(label.shape)\n",
    "label_[label == (num_classes - 1)] = 0\n",
    "vec_label = np.reshape(label_,(num_pixels,))\n",
    "print(vec_label.shape)\n",
    "#print(np.diag(vec_label).shape)\n",
    "diag_mul = tf.constant(vec_label,dtype=tf.int32)\n",
    "\n",
    "# bias_add\n",
    "bias_ = np.zeros(label.shape)\n",
    "bias_[label == (num_classes - 1)] = 1  \n",
    "vec_label_ = np.reshape(bias_,(num_pixels,))\n",
    "bias_vec = tf.constant(vec_label_,dtype=tf.int32)\n"
   ]
  },
  {
   "cell_type": "code",
   "execution_count": null,
   "metadata": {
    "collapsed": false,
    "scrolled": true
   },
   "outputs": [],
   "source": [
    "# Simulate train()\n",
    "bias_add = tf.one_hot(bias_vec, depth=22, on_value=1,off_value=0,axis=-1)\n",
    "bias_mul = tf.diag(diag_mul) \n",
    "bias_add = tf.cast(bias_add, tf.float32)\n",
    "bias_mul = tf.cast(bias_mul, tf.float32)\n",
    "\n",
    "prediction = tf.add(tf.matmul(bias_mul, bias_add),bias_add)\n",
    "with tf.Session() as sess:\n",
    "    init = tf.initialize_all_variables()\n",
    "    sess.run(init)\n",
    "    print(sess.run(bias_vec)[5:7])\n",
    "    print(sess.run(bias_add)[5:7,:])\n",
    "    print(sess.run(bias_add).shape)\n",
    "    m = sess.run(prediction)    "
   ]
  },
  {
   "cell_type": "code",
   "execution_count": null,
   "metadata": {
    "collapsed": false,
    "scrolled": true
   },
   "outputs": [],
   "source": [
    "print m"
   ]
  },
  {
   "cell_type": "markdown",
   "metadata": {},
   "source": [
    "# Test 2"
   ]
  },
  {
   "cell_type": "code",
   "execution_count": null,
   "metadata": {
    "collapsed": false,
    "scrolled": true
   },
   "outputs": [],
   "source": [
    "x = tf.random_uniform([3,3], minval=0, maxval=1, dtype=tf.float32)\n",
    "# d = 4, c =3\n",
    "y = np.array([[0,1,0],\n",
    "              [0,1,0],\n",
    "              [0,0,1],\n",
    "              [1,0,0]])\n",
    "indices = tf.constant([1,1,2,0])\n",
    "y_ = tf.Variable(y)\n",
    "yt = tf.one_hot(indices, depth=3, on_value=1.0, off_value=0.0, axis=-1)\n",
    "\n",
    "#yt = tf.transpose(y_)\n",
    "#last = tf.slice(yt, )\n",
    "with tf.Session() as sess:\n",
    "    init = tf.initialize_all_variables()\n",
    "    sess.run(init)\n",
    "    print(sess.run(yt))\n",
    "    #xval,yval = sess.run([x,y_])\n"
   ]
  },
  {
   "cell_type": "code",
   "execution_count": null,
   "metadata": {
    "collapsed": false,
    "scrolled": true
   },
   "outputs": [],
   "source": [
    "# bias_add\n",
    "bias_ = np.zeros(label.shape)\n",
    "bias_[label == (num_classes - 1)] = 1  \n",
    "vec_label_ = np.reshape(bias_,(num_pixels,1))\n",
    "bias_add = tf.constant(vec_label_)\n",
    "print(bias_add)"
   ]
  },
  {
   "cell_type": "code",
   "execution_count": null,
   "metadata": {
    "collapsed": false,
    "scrolled": true
   },
   "outputs": [],
   "source": [
    "l = np.array([1,1,2])\n",
    "y = np.array([[0,1,0],[0,1,0],[0,0,1]])\n",
    "yc = np.copy(y)\n",
    "y[l!=2,:] = 1 \n",
    "y[l==2,:] = 0\n",
    "yc[l!=2,:]= 0\n",
    "z = xval * y + yc"
   ]
  },
  {
   "cell_type": "code",
   "execution_count": null,
   "metadata": {
    "collapsed": false,
    "scrolled": true
   },
   "outputs": [],
   "source": [
    "l = np.array([1,1,2])\n",
    "y =  np.ones([3,3])\n",
    "yc = np.zeros([3,3])\n",
    "\n",
    "y[l==2,:] = 0\n",
    "yc[l!=2,:]= l\n",
    "z = xval * y + yc"
   ]
  },
  {
   "cell_type": "code",
   "execution_count": null,
   "metadata": {
    "collapsed": false,
    "scrolled": true
   },
   "outputs": [],
   "source": [
    "x = tf.Variable([[ 0.24924435,0.57862125, 0.24622613],\n",
    " [ 0.45910273,0.86502683,0.38240533],\n",
    " [ 0.82418419,0.29564904,0.92826386]], dtype=tf.float64)"
   ]
  },
  {
   "cell_type": "code",
   "execution_count": null,
   "metadata": {
    "collapsed": false,
    "scrolled": true
   },
   "outputs": [],
   "source": [
    "def ignore_boundary(label,truth, num_classes):\n",
    "    # Hot-one label \n",
    "    y = np.zeros((label.shape[0],num_classes))\n",
    "    y[np.arange(num_classes), label] = 1\n",
    "\n",
    "    yc = np.copy(y)\n",
    "    c_max = num_classes - 1\n",
    "    y[label != c_max,:] = 1 \n",
    "    y[label == c_max,:] = 0\n",
    "    yc[label != c_max,:]= 0\n",
    "    yt = tf.constant(y)\n",
    "    yct = tf.constant(yc)\n",
    "    truth = tf.add(tf.mul(truth, yt), yct)\n",
    "    return truth\n",
    "\n",
    "l = np.array([1,1,2],dtype=np.int32)\n",
    "# x = tf.random_uniform([3,3], minval=0, maxval=1, dtype=tf.float64)\n",
    "\n",
    "truth = ignore_boundary(l, x,3)\n",
    "with tf.Session() as sess:\n",
    "    init = tf.initialize_all_variables()\n",
    "    sess.run(init)\n",
    "    print(sess.run(x))\n",
    "    print(sess.run(truth))"
   ]
  },
  {
   "cell_type": "code",
   "execution_count": null,
   "metadata": {
    "collapsed": false,
    "scrolled": true
   },
   "outputs": [],
   "source": [
    "right = np.random.rand(200000,22)\n",
    "xx = np.ones(200000)\n",
    "np.put(xx, [2,3,5,6,8,12,45,34,78,90], [0])\n",
    "left = np.diag(xx)\n",
    "print \"start multiplying\"\n",
    "result = np.dot(left, right)\n",
    "print \"finished mult\"\n"
   ]
  },
  {
   "cell_type": "code",
   "execution_count": 4,
   "metadata": {
    "collapsed": false,
    "scrolled": false
   },
   "outputs": [
    {
     "name": "stdout",
     "output_type": "stream",
     "text": [
      "Indices loaded: 1464\n",
      "Batch index: 143\n",
      "height:  375\n",
      "weight:  500\n",
      "num of pixels:  187500\n",
      "image shape: %s Tensor(\"Shape_6:0\", shape=(4,), dtype=int32)\n",
      "label shape: %s Tensor(\"Shape_7:0\", shape=(1,), dtype=int32)\n"
     ]
    }
   ],
   "source": [
    "\n",
    "train_data_config = {'voc_dir':\"data/VOCdevkit/VOC2012\",\n",
    "          'dataset':'train',\n",
    "          'randomize': True,\n",
    "          'seed': None}\n",
    "params = {'num_classes': 22, 'rate': 1e-4}\n",
    "\n",
    "train_dataset = dt.VOCDataSet(train_data_config)\n",
    "\n",
    "with tf.Session() as sess:\n",
    "    next_pair = train_dataset.next_batch()\n",
    "    image_height, image_width = tf.shape(next_pair[0])[1], tf.shape(next_pair[0])[2]\n",
    "#    image_height, image_width = next_pair[0].shape(), next_pair[0].shape()\n",
    "    image_height_val = image_height.eval()\n",
    "    image_width_val = image_width.eval()\n",
    "    num_pixels = image_height_val * image_width_val\n",
    "    # num_pixels_val = num_pixels.eval()\n",
    "    \n",
    "    print(\"height: \", image_height_val)\n",
    "    print(\"weight: \", image_width_val)\n",
    "    print(\"num of pixels: \", num_pixels)\n",
    "    \n",
    "\n",
    "    # next_pair_image = tf.reshape(next_pair[0], [1, tf.shape(next_pair[0])[1], tf.shape(next_pair[0])[2], 3])\n",
    "    next_pair_image = next_pair[0]\n",
    "    print(\"image shape: %s\", tf.shape(next_pair_image).eval())\n",
    "    next_pair_lable = np.reshape(next_pair[1], num_pixels)\n",
    "    print(\"label shape: %s\", tf.shape(next_pair_lable).eval())\n",
    "    \n",
    "#     next_pair_image_ = next_pair_image.eval()# Convert to python numpy array\n",
    "#     next_pair_lable_ = next_pair_lable.eval()# Convert to python numpy array\n"
   ]
  },
  {
   "cell_type": "code",
   "execution_count": null,
   "metadata": {
    "collapsed": true
   },
   "outputs": [],
   "source": []
  }
 ],
 "metadata": {
  "anaconda-cloud": {},
  "kernelspec": {
   "display_name": "Python [conda env:tensorflow]",
   "language": "python",
   "name": "conda-env-tensorflow-py"
  },
  "language_info": {
   "codemirror_mode": {
    "name": "ipython",
    "version": 2
   },
   "file_extension": ".py",
   "mimetype": "text/x-python",
   "name": "python",
   "nbconvert_exporter": "python",
   "pygments_lexer": "ipython2",
   "version": "2.7.12"
  }
 },
 "nbformat": 4,
 "nbformat_minor": 0
}
