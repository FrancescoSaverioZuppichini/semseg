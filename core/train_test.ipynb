{
 "cells": [
  {
   "cell_type": "code",
   "execution_count": 2,
   "metadata": {
    "collapsed": false,
    "scrolled": true
   },
   "outputs": [],
   "source": [
    "# Allow auto-reload of external modules \n",
    "%reload_ext autoreload\n",
    "%autoreload 2\n",
    "\n",
    "from __future__ import absolute_import\n",
    "from __future__ import division\n",
    "from __future__ import print_function\n",
    "\n",
    "import os\n",
    "import scipy as scp\n",
    "import scipy.misc\n",
    "\n",
    "import numpy as np\n",
    "import tensorflow as tf\n",
    "\n",
    "from network.fcn_instance import InstanceSegNet"
   ]
  },
  {
   "cell_type": "code",
   "execution_count": 57,
   "metadata": {
    "collapsed": false
   },
   "outputs": [
    {
     "data": {
      "text/plain": [
       "array([[1, 1, 1],\n",
       "       [2, 2, 2]])"
      ]
     },
     "execution_count": 57,
     "metadata": {},
     "output_type": "execute_result"
    }
   ],
   "source": [
    "np.array([[[1, 1, 1], [2, 2, 2]],\n",
    "            [[3, 3, 3], [4, 4, 4]],\n",
    "            [[5, 5, 5], [6, 6, 6]]])[0,:,:]"
   ]
  },
  {
   "cell_type": "code",
   "execution_count": 67,
   "metadata": {
    "collapsed": false
   },
   "outputs": [
    {
     "name": "stdout",
     "output_type": "stream",
     "text": [
      "[[[ 1  7]\n",
      "  [ 2  8]\n",
      "  [ 3  9]]\n",
      "\n",
      " [[ 4 10]\n",
      "  [ 5 11]\n",
      "  [ 6 12]]]\n"
     ]
    }
   ],
   "source": [
    "y = np.array([[1,2,3],[4,5,6]])\n",
    "y2 = np.array([[7,8,9],[10,11,12]])\n",
    "y3 = np.stack((y,y2),axis=2)\n",
    "np.shape(y3)\n",
    "print(y3)"
   ]
  },
  {
   "cell_type": "code",
   "execution_count": 86,
   "metadata": {
    "collapsed": false
   },
   "outputs": [],
   "source": [
    "x = np.random.randint(0,10,(4,4,3))\n",
    "w = tf.Variable(x)\n",
    "lis = [0,2]\n",
    "lis_ = []\n",
    "xx = tf.split(2, 3, w)\n",
    "for i in lis:\n",
    "    t = tf.slice(w, [0, 0, i], [4, 4, 1])\n",
    "    lis_.append(t)\n",
    "\n",
    "new = tf.concat(2,lis_)\n",
    "s = tf.shape(new)[0]\n",
    "init = tf.initialize_all_variables()\n",
    "with tf.Session() as sess:\n",
    "    sess.run(init)\n",
    "    sp = sess.run(xx)\n",
    "    m = sess.run(new)"
   ]
  },
  {
   "cell_type": "code",
   "execution_count": 93,
   "metadata": {
    "collapsed": false
   },
   "outputs": [
    {
     "name": "stdout",
     "output_type": "stream",
     "text": [
      "[[7 2 8 7]\n",
      " [0 5 3 9]\n",
      " [7 9 4 8]\n",
      " [2 7 2 0]]\n",
      "[[7 2 8 7]\n",
      " [0 5 3 9]\n",
      " [7 9 4 8]\n",
      " [2 7 2 0]]\n"
     ]
    }
   ],
   "source": [
    "print(x[:,:,0])\n",
    "print(sp[0][:,:,0])"
   ]
  },
  {
   "cell_type": "code",
   "execution_count": 94,
   "metadata": {
    "collapsed": false
   },
   "outputs": [
    {
     "name": "stdout",
     "output_type": "stream",
     "text": [
      "Successfully load weight file from /Users/jennyzhou/GitLocalRepository/APC_InstanceSegmentation/core/data/vgg16.npy.\n"
     ]
    }
   ],
   "source": [
    "data_dict = dt.load_weight('data/vgg16.npy')"
   ]
  },
  {
   "cell_type": "code",
   "execution_count": 97,
   "metadata": {
    "collapsed": false
   },
   "outputs": [
    {
     "name": "stdout",
     "output_type": "stream",
     "text": [
      "(3, 3, 512, 512) (512,)\n",
      "(25088, 4096) (4096,)\n",
      "(3, 3, 512, 512) (512,)\n",
      "(4096, 4096) (4096,)\n",
      "(4096, 1000) (1000,)\n",
      "(3, 3, 512, 512) (512,)\n",
      "(3, 3, 256, 512) (512,)\n",
      "(3, 3, 512, 512) (512,)\n",
      "(3, 3, 512, 512) (512,)\n",
      "(3, 3, 256, 256) (256,)\n",
      "(3, 3, 256, 256) (256,)\n",
      "(3, 3, 128, 256) (256,)\n",
      "(3, 3, 3, 64) (64,)\n",
      "(3, 3, 64, 64) (64,)\n",
      "(3, 3, 128, 128) (128,)\n",
      "(3, 3, 64, 128) (128,)\n"
     ]
    }
   ],
   "source": [
    "for x in data_dict:\n",
    "    print(data_dict[x][0].shape, data_dict[x][1].shape)"
   ]
  },
  {
   "cell_type": "code",
   "execution_count": null,
   "metadata": {
    "collapsed": true
   },
   "outputs": [],
   "source": []
  }
 ],
 "metadata": {
  "anaconda-cloud": {},
  "kernelspec": {
   "display_name": "Python [Root]",
   "language": "python",
   "name": "Python [Root]"
  },
  "language_info": {
   "codemirror_mode": {
    "name": "ipython",
    "version": 2
   },
   "file_extension": ".py",
   "mimetype": "text/x-python",
   "name": "python",
   "nbconvert_exporter": "python",
   "pygments_lexer": "ipython2",
   "version": "2.7.12"
  }
 },
 "nbformat": 4,
 "nbformat_minor": 0
}
